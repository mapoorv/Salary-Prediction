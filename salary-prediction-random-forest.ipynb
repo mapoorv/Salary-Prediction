{
 "cells": [
  {
   "cell_type": "markdown",
   "id": "fccf80f0",
   "metadata": {
    "papermill": {
     "duration": 0.052981,
     "end_time": "2022-04-25T06:21:58.947512",
     "exception": false,
     "start_time": "2022-04-25T06:21:58.894531",
     "status": "completed"
    },
    "tags": []
   },
   "source": [
    "# IMPORTING MODULES"
   ]
  },
  {
   "cell_type": "code",
   "execution_count": 3,
   "id": "acf20dd9",
   "metadata": {
    "execution": {
     "iopub.execute_input": "2022-04-25T06:21:59.055201Z",
     "iopub.status.busy": "2022-04-25T06:21:59.054973Z",
     "iopub.status.idle": "2022-04-25T06:22:00.907497Z",
     "shell.execute_reply": "2022-04-25T06:22:00.906631Z"
    },
    "papermill": {
     "duration": 1.908959,
     "end_time": "2022-04-25T06:22:00.909616",
     "exception": false,
     "start_time": "2022-04-25T06:21:59.000657",
     "status": "completed"
    },
    "tags": []
   },
   "outputs": [],
   "source": [
    "import matplotlib.pyplot as plt\n",
    "import seaborn as sns\n",
    "from sklearn.preprocessing import LabelEncoder\n",
    "from imblearn.over_sampling import SMOTE\n",
    "from feature_engine.selection import DropConstantFeatures, SmartCorrelatedSelection\n",
    "from sklearn.preprocessing import StandardScaler\n",
    "from sklearn.model_selection import train_test_split, RandomizedSearchCV\n",
    "from sklearn.ensemble import RandomForestClassifier\n",
    "from mlxtend.feature_selection import SequentialFeatureSelector as SFS\n",
    "from sklearn.metrics import accuracy_score, confusion_matrix, classification_report"
   ]
  },
  {
   "cell_type": "markdown",
   "id": "5496d2d7",
   "metadata": {
    "papermill": {
     "duration": 0.053833,
     "end_time": "2022-04-25T06:22:01.016814",
     "exception": false,
     "start_time": "2022-04-25T06:22:00.962981",
     "status": "completed"
    },
    "tags": []
   },
   "source": [
    "# LOADING DATA"
   ]
  },
  {
   "cell_type": "code",
   "execution_count": 2,
   "id": "d35b6654",
   "metadata": {
    "execution": {
     "iopub.execute_input": "2022-04-25T06:22:01.126337Z",
     "iopub.status.busy": "2022-04-25T06:22:01.125851Z",
     "iopub.status.idle": "2022-04-25T06:22:01.223190Z",
     "shell.execute_reply": "2022-04-25T06:22:01.222606Z"
    },
    "papermill": {
     "duration": 0.154081,
     "end_time": "2022-04-25T06:22:01.225010",
     "exception": false,
     "start_time": "2022-04-25T06:22:01.070929",
     "status": "completed"
    },
    "tags": []
   },
   "outputs": [
    {
     "data": {
      "application/javascript": [
       "\n",
       "        if (window._pyforest_update_imports_cell) { window._pyforest_update_imports_cell('import pandas as pd'); }\n",
       "    "
      ],
      "text/plain": [
       "<IPython.core.display.Javascript object>"
      ]
     },
     "metadata": {},
     "output_type": "display_data"
    }
   ],
   "source": [
    "df = pd.read_csv(\"C:/Users/ac/OneDrive/Desktop/Projects/Project 8/salary.csv\")\n"
   ]
  },
  {
   "cell_type": "markdown",
   "id": "28e69e92",
   "metadata": {
    "papermill": {
     "duration": 0.081576,
     "end_time": "2022-04-25T06:22:01.375538",
     "exception": false,
     "start_time": "2022-04-25T06:22:01.293962",
     "status": "completed"
    },
    "tags": []
   },
   "source": [
    "# BASIC INFORMATION GAINING"
   ]
  },
  {
   "cell_type": "code",
   "execution_count": 3,
   "id": "61e693ba",
   "metadata": {
    "execution": {
     "iopub.execute_input": "2022-04-25T06:22:01.542249Z",
     "iopub.status.busy": "2022-04-25T06:22:01.541773Z",
     "iopub.status.idle": "2022-04-25T06:22:01.568656Z",
     "shell.execute_reply": "2022-04-25T06:22:01.567942Z"
    },
    "papermill": {
     "duration": 0.112829,
     "end_time": "2022-04-25T06:22:01.570981",
     "exception": false,
     "start_time": "2022-04-25T06:22:01.458152",
     "status": "completed"
    },
    "tags": []
   },
   "outputs": [
    {
     "data": {
      "text/html": [
       "<div>\n",
       "<style scoped>\n",
       "    .dataframe tbody tr th:only-of-type {\n",
       "        vertical-align: middle;\n",
       "    }\n",
       "\n",
       "    .dataframe tbody tr th {\n",
       "        vertical-align: top;\n",
       "    }\n",
       "\n",
       "    .dataframe thead th {\n",
       "        text-align: right;\n",
       "    }\n",
       "</style>\n",
       "<table border=\"1\" class=\"dataframe\">\n",
       "  <thead>\n",
       "    <tr style=\"text-align: right;\">\n",
       "      <th></th>\n",
       "      <th>age</th>\n",
       "      <th>workclass</th>\n",
       "      <th>fnlwgt</th>\n",
       "      <th>education</th>\n",
       "      <th>education-num</th>\n",
       "      <th>marital-status</th>\n",
       "      <th>occupation</th>\n",
       "      <th>relationship</th>\n",
       "      <th>race</th>\n",
       "      <th>sex</th>\n",
       "      <th>capital-gain</th>\n",
       "      <th>capital-loss</th>\n",
       "      <th>hours-per-week</th>\n",
       "      <th>native-country</th>\n",
       "      <th>salary</th>\n",
       "    </tr>\n",
       "  </thead>\n",
       "  <tbody>\n",
       "    <tr>\n",
       "      <th>0</th>\n",
       "      <td>39</td>\n",
       "      <td>State-gov</td>\n",
       "      <td>77516</td>\n",
       "      <td>Bachelors</td>\n",
       "      <td>13</td>\n",
       "      <td>Never-married</td>\n",
       "      <td>Adm-clerical</td>\n",
       "      <td>Not-in-family</td>\n",
       "      <td>White</td>\n",
       "      <td>Male</td>\n",
       "      <td>2174</td>\n",
       "      <td>0</td>\n",
       "      <td>40</td>\n",
       "      <td>United-States</td>\n",
       "      <td>&lt;=50K</td>\n",
       "    </tr>\n",
       "    <tr>\n",
       "      <th>1</th>\n",
       "      <td>50</td>\n",
       "      <td>Self-emp-not-inc</td>\n",
       "      <td>83311</td>\n",
       "      <td>Bachelors</td>\n",
       "      <td>13</td>\n",
       "      <td>Married-civ-spouse</td>\n",
       "      <td>Exec-managerial</td>\n",
       "      <td>Husband</td>\n",
       "      <td>White</td>\n",
       "      <td>Male</td>\n",
       "      <td>0</td>\n",
       "      <td>0</td>\n",
       "      <td>13</td>\n",
       "      <td>United-States</td>\n",
       "      <td>&lt;=50K</td>\n",
       "    </tr>\n",
       "    <tr>\n",
       "      <th>2</th>\n",
       "      <td>38</td>\n",
       "      <td>Private</td>\n",
       "      <td>215646</td>\n",
       "      <td>HS-grad</td>\n",
       "      <td>9</td>\n",
       "      <td>Divorced</td>\n",
       "      <td>Handlers-cleaners</td>\n",
       "      <td>Not-in-family</td>\n",
       "      <td>White</td>\n",
       "      <td>Male</td>\n",
       "      <td>0</td>\n",
       "      <td>0</td>\n",
       "      <td>40</td>\n",
       "      <td>United-States</td>\n",
       "      <td>&lt;=50K</td>\n",
       "    </tr>\n",
       "    <tr>\n",
       "      <th>3</th>\n",
       "      <td>53</td>\n",
       "      <td>Private</td>\n",
       "      <td>234721</td>\n",
       "      <td>11th</td>\n",
       "      <td>7</td>\n",
       "      <td>Married-civ-spouse</td>\n",
       "      <td>Handlers-cleaners</td>\n",
       "      <td>Husband</td>\n",
       "      <td>Black</td>\n",
       "      <td>Male</td>\n",
       "      <td>0</td>\n",
       "      <td>0</td>\n",
       "      <td>40</td>\n",
       "      <td>United-States</td>\n",
       "      <td>&lt;=50K</td>\n",
       "    </tr>\n",
       "    <tr>\n",
       "      <th>4</th>\n",
       "      <td>28</td>\n",
       "      <td>Private</td>\n",
       "      <td>338409</td>\n",
       "      <td>Bachelors</td>\n",
       "      <td>13</td>\n",
       "      <td>Married-civ-spouse</td>\n",
       "      <td>Prof-specialty</td>\n",
       "      <td>Wife</td>\n",
       "      <td>Black</td>\n",
       "      <td>Female</td>\n",
       "      <td>0</td>\n",
       "      <td>0</td>\n",
       "      <td>40</td>\n",
       "      <td>Cuba</td>\n",
       "      <td>&lt;=50K</td>\n",
       "    </tr>\n",
       "  </tbody>\n",
       "</table>\n",
       "</div>"
      ],
      "text/plain": [
       "   age          workclass  fnlwgt   education  education-num  \\\n",
       "0   39          State-gov   77516   Bachelors             13   \n",
       "1   50   Self-emp-not-inc   83311   Bachelors             13   \n",
       "2   38            Private  215646     HS-grad              9   \n",
       "3   53            Private  234721        11th              7   \n",
       "4   28            Private  338409   Bachelors             13   \n",
       "\n",
       "        marital-status          occupation    relationship    race      sex  \\\n",
       "0        Never-married        Adm-clerical   Not-in-family   White     Male   \n",
       "1   Married-civ-spouse     Exec-managerial         Husband   White     Male   \n",
       "2             Divorced   Handlers-cleaners   Not-in-family   White     Male   \n",
       "3   Married-civ-spouse   Handlers-cleaners         Husband   Black     Male   \n",
       "4   Married-civ-spouse      Prof-specialty            Wife   Black   Female   \n",
       "\n",
       "   capital-gain  capital-loss  hours-per-week  native-country  salary  \n",
       "0          2174             0              40   United-States   <=50K  \n",
       "1             0             0              13   United-States   <=50K  \n",
       "2             0             0              40   United-States   <=50K  \n",
       "3             0             0              40   United-States   <=50K  \n",
       "4             0             0              40            Cuba   <=50K  "
      ]
     },
     "execution_count": 3,
     "metadata": {},
     "output_type": "execute_result"
    }
   ],
   "source": [
    "df.head()"
   ]
  },
  {
   "cell_type": "code",
   "execution_count": 6,
   "id": "4d66968e",
   "metadata": {
    "execution": {
     "iopub.execute_input": "2022-04-25T06:22:01.739940Z",
     "iopub.status.busy": "2022-04-25T06:22:01.739416Z",
     "iopub.status.idle": "2022-04-25T06:22:01.744935Z",
     "shell.execute_reply": "2022-04-25T06:22:01.744289Z"
    },
    "papermill": {
     "duration": 0.092344,
     "end_time": "2022-04-25T06:22:01.746843",
     "exception": false,
     "start_time": "2022-04-25T06:22:01.654499",
     "status": "completed"
    },
    "tags": []
   },
   "outputs": [
    {
     "data": {
      "text/plain": [
       "(32561, 15)"
      ]
     },
     "execution_count": 6,
     "metadata": {},
     "output_type": "execute_result"
    }
   ],
   "source": [
    "df.shape"
   ]
  },
  {
   "cell_type": "code",
   "execution_count": 7,
   "id": "83569f2b",
   "metadata": {
    "execution": {
     "iopub.execute_input": "2022-04-25T06:22:01.916910Z",
     "iopub.status.busy": "2022-04-25T06:22:01.916514Z",
     "iopub.status.idle": "2022-04-25T06:22:01.923143Z",
     "shell.execute_reply": "2022-04-25T06:22:01.922432Z"
    },
    "papermill": {
     "duration": 0.094121,
     "end_time": "2022-04-25T06:22:01.924879",
     "exception": false,
     "start_time": "2022-04-25T06:22:01.830758",
     "status": "completed"
    },
    "tags": []
   },
   "outputs": [
    {
     "data": {
      "text/plain": [
       "age                int64\n",
       "workclass         object\n",
       "fnlwgt             int64\n",
       "education         object\n",
       "education-num      int64\n",
       "marital-status    object\n",
       "occupation        object\n",
       "relationship      object\n",
       "race              object\n",
       "sex               object\n",
       "capital-gain       int64\n",
       "capital-loss       int64\n",
       "hours-per-week     int64\n",
       "native-country    object\n",
       "salary            object\n",
       "dtype: object"
      ]
     },
     "execution_count": 7,
     "metadata": {},
     "output_type": "execute_result"
    }
   ],
   "source": [
    "df.dtypes"
   ]
  },
  {
   "cell_type": "code",
   "execution_count": 8,
   "id": "0f9c2e10",
   "metadata": {
    "execution": {
     "iopub.execute_input": "2022-04-25T06:22:02.094445Z",
     "iopub.status.busy": "2022-04-25T06:22:02.093231Z",
     "iopub.status.idle": "2022-04-25T06:22:02.111520Z",
     "shell.execute_reply": "2022-04-25T06:22:02.110660Z"
    },
    "papermill": {
     "duration": 0.105408,
     "end_time": "2022-04-25T06:22:02.113568",
     "exception": false,
     "start_time": "2022-04-25T06:22:02.008160",
     "status": "completed"
    },
    "tags": []
   },
   "outputs": [
    {
     "data": {
      "text/plain": [
       "age               0\n",
       "workclass         0\n",
       "fnlwgt            0\n",
       "education         0\n",
       "education-num     0\n",
       "marital-status    0\n",
       "occupation        0\n",
       "relationship      0\n",
       "race              0\n",
       "sex               0\n",
       "capital-gain      0\n",
       "capital-loss      0\n",
       "hours-per-week    0\n",
       "native-country    0\n",
       "salary            0\n",
       "dtype: int64"
      ]
     },
     "execution_count": 8,
     "metadata": {},
     "output_type": "execute_result"
    }
   ],
   "source": [
    "df.isnull().sum()"
   ]
  },
  {
   "cell_type": "code",
   "execution_count": 9,
   "id": "769d4838",
   "metadata": {
    "execution": {
     "iopub.execute_input": "2022-04-25T06:22:02.287536Z",
     "iopub.status.busy": "2022-04-25T06:22:02.287126Z",
     "iopub.status.idle": "2022-04-25T06:22:02.346831Z",
     "shell.execute_reply": "2022-04-25T06:22:02.345666Z"
    },
    "papermill": {
     "duration": 0.150004,
     "end_time": "2022-04-25T06:22:02.348794",
     "exception": false,
     "start_time": "2022-04-25T06:22:02.198790",
     "status": "completed"
    },
    "tags": []
   },
   "outputs": [
    {
     "data": {
      "text/plain": [
       "24"
      ]
     },
     "execution_count": 9,
     "metadata": {},
     "output_type": "execute_result"
    }
   ],
   "source": [
    "df.duplicated().sum()"
   ]
  },
  {
   "cell_type": "code",
   "execution_count": 10,
   "id": "9632a5bb",
   "metadata": {
    "execution": {
     "iopub.execute_input": "2022-04-25T06:22:02.519191Z",
     "iopub.status.busy": "2022-04-25T06:22:02.518902Z",
     "iopub.status.idle": "2022-04-25T06:22:02.556449Z",
     "shell.execute_reply": "2022-04-25T06:22:02.555637Z"
    },
    "papermill": {
     "duration": 0.125793,
     "end_time": "2022-04-25T06:22:02.558523",
     "exception": false,
     "start_time": "2022-04-25T06:22:02.432730",
     "status": "completed"
    },
    "tags": []
   },
   "outputs": [],
   "source": [
    "df.drop_duplicates(inplace=True)"
   ]
  },
  {
   "cell_type": "code",
   "execution_count": 11,
   "id": "b42096b9",
   "metadata": {
    "execution": {
     "iopub.execute_input": "2022-04-25T06:22:02.729151Z",
     "iopub.status.busy": "2022-04-25T06:22:02.728750Z",
     "iopub.status.idle": "2022-04-25T06:22:02.755375Z",
     "shell.execute_reply": "2022-04-25T06:22:02.754633Z"
    },
    "papermill": {
     "duration": 0.114552,
     "end_time": "2022-04-25T06:22:02.757521",
     "exception": false,
     "start_time": "2022-04-25T06:22:02.642969",
     "status": "completed"
    },
    "tags": []
   },
   "outputs": [
    {
     "name": "stdout",
     "output_type": "stream",
     "text": [
      "workclass \n",
      ": [' State-gov' ' Self-emp-not-inc' ' Private' ' Federal-gov' ' Local-gov'\n",
      " ' ?' ' Self-emp-inc' ' Without-pay' ' Never-worked']\n",
      "==================================================\n",
      "education \n",
      ": [' Bachelors' ' HS-grad' ' 11th' ' Masters' ' 9th' ' Some-college'\n",
      " ' Assoc-acdm' ' Assoc-voc' ' 7th-8th' ' Doctorate' ' Prof-school'\n",
      " ' 5th-6th' ' 10th' ' 1st-4th' ' Preschool' ' 12th']\n",
      "==================================================\n",
      "marital-status \n",
      ": [' Never-married' ' Married-civ-spouse' ' Divorced'\n",
      " ' Married-spouse-absent' ' Separated' ' Married-AF-spouse' ' Widowed']\n",
      "==================================================\n",
      "occupation \n",
      ": [' Adm-clerical' ' Exec-managerial' ' Handlers-cleaners' ' Prof-specialty'\n",
      " ' Other-service' ' Sales' ' Craft-repair' ' Transport-moving'\n",
      " ' Farming-fishing' ' Machine-op-inspct' ' Tech-support' ' ?'\n",
      " ' Protective-serv' ' Armed-Forces' ' Priv-house-serv']\n",
      "==================================================\n",
      "relationship \n",
      ": [' Not-in-family' ' Husband' ' Wife' ' Own-child' ' Unmarried'\n",
      " ' Other-relative']\n",
      "==================================================\n",
      "race \n",
      ": [' White' ' Black' ' Asian-Pac-Islander' ' Amer-Indian-Eskimo' ' Other']\n",
      "==================================================\n",
      "sex \n",
      ": [' Male' ' Female']\n",
      "==================================================\n",
      "native-country \n",
      ": [' United-States' ' Cuba' ' Jamaica' ' India' ' ?' ' Mexico' ' South'\n",
      " ' Puerto-Rico' ' Honduras' ' England' ' Canada' ' Germany' ' Iran'\n",
      " ' Philippines' ' Italy' ' Poland' ' Columbia' ' Cambodia' ' Thailand'\n",
      " ' Ecuador' ' Laos' ' Taiwan' ' Haiti' ' Portugal' ' Dominican-Republic'\n",
      " ' El-Salvador' ' France' ' Guatemala' ' China' ' Japan' ' Yugoslavia'\n",
      " ' Peru' ' Outlying-US(Guam-USVI-etc)' ' Scotland' ' Trinadad&Tobago'\n",
      " ' Greece' ' Nicaragua' ' Vietnam' ' Hong' ' Ireland' ' Hungary'\n",
      " ' Holand-Netherlands']\n",
      "==================================================\n",
      "salary \n",
      ": [' <=50K' ' >50K']\n",
      "==================================================\n"
     ]
    }
   ],
   "source": [
    "# Unique values\n",
    "\n",
    "for ele in df.columns:\n",
    "    if df[ele].dtypes!=\"int64\":\n",
    "        print(\"{} \\n: {}\".format(ele, df[ele].unique()))\n",
    "        print(\"=\"*50)"
   ]
  },
  {
   "cell_type": "markdown",
   "id": "41b7cd66",
   "metadata": {
    "papermill": {
     "duration": 0.054465,
     "end_time": "2022-04-25T06:22:02.866878",
     "exception": false,
     "start_time": "2022-04-25T06:22:02.812413",
     "status": "completed"
    },
    "tags": []
   },
   "source": [
    "We got some missing values here which are denoted by a question mark \"?\", will deal with those in data preprocessing phase."
   ]
  },
  {
   "cell_type": "markdown",
   "id": "65bbb62d",
   "metadata": {
    "papermill": {
     "duration": 0.053874,
     "end_time": "2022-04-25T06:22:02.975020",
     "exception": false,
     "start_time": "2022-04-25T06:22:02.921146",
     "status": "completed"
    },
    "tags": []
   },
   "source": [
    "# EDA (Exploratory Data Analysis)"
   ]
  },
  {
   "cell_type": "code",
   "execution_count": 12,
   "id": "1259333d",
   "metadata": {
    "execution": {
     "iopub.execute_input": "2022-04-25T06:22:03.084242Z",
     "iopub.status.busy": "2022-04-25T06:22:03.084024Z",
     "iopub.status.idle": "2022-04-25T06:22:03.311844Z",
     "shell.execute_reply": "2022-04-25T06:22:03.310899Z"
    },
    "papermill": {
     "duration": 0.284416,
     "end_time": "2022-04-25T06:22:03.313533",
     "exception": false,
     "start_time": "2022-04-25T06:22:03.029117",
     "status": "completed"
    },
    "tags": []
   },
   "outputs": [
    {
     "name": "stdout",
     "output_type": "stream",
     "text": [
      " <=50K    24698\n",
      " >50K      7839\n",
      "Name: salary, dtype: int64\n"
     ]
    },
    {
     "data": {
      "text/plain": [
       "<AxesSubplot:xlabel='salary', ylabel='count'>"
      ]
     },
     "execution_count": 12,
     "metadata": {},
     "output_type": "execute_result"
    },
    {
     "data": {
      "image/png": "[encoded data removed]",
      "text/plain": [
       "<Figure size 720x360 with 1 Axes>"
      ]
     },
     "metadata": {
      "needs_background": "light"
     },
     "output_type": "display_data"
    }
   ],
   "source": [
    "fig = plt.figure(figsize=(10,5))\n",
    "print(df[\"salary\"].value_counts())\n",
    "sns.countplot(data = df, x=\"salary\")"
   ]
  },
  {
   "cell_type": "markdown",
   "id": "72408b2d",
   "metadata": {
    "papermill": {
     "duration": 0.056579,
     "end_time": "2022-04-25T06:22:03.428528",
     "exception": false,
     "start_time": "2022-04-25T06:22:03.371949",
     "status": "completed"
    },
    "tags": []
   },
   "source": [
    "Our data is imbalance, as we can see almost 76% of the data have value \"<=50K\" and 24% of data have value \">50K\". Will use SMOTE to balance our dataset. "
   ]
  },
  {
   "cell_type": "markdown",
   "id": "3c4d4b4f",
   "metadata": {
    "papermill": {
     "duration": 0.057581,
     "end_time": "2022-04-25T06:22:03.544467",
     "exception": false,
     "start_time": "2022-04-25T06:22:03.486886",
     "status": "completed"
    },
    "tags": []
   },
   "source": [
    "## Dominating Workclass"
   ]
  },
  {
   "cell_type": "code",
   "execution_count": 13,
   "id": "80cd722b",
   "metadata": {
    "execution": {
     "iopub.execute_input": "2022-04-25T06:22:03.660992Z",
     "iopub.status.busy": "2022-04-25T06:22:03.659203Z",
     "iopub.status.idle": "2022-04-25T06:22:03.875174Z",
     "shell.execute_reply": "2022-04-25T06:22:03.874273Z"
    },
    "papermill": {
     "duration": 0.275412,
     "end_time": "2022-04-25T06:22:03.877433",
     "exception": false,
     "start_time": "2022-04-25T06:22:03.602021",
     "status": "completed"
    },
    "tags": []
   },
   "outputs": [
    {
     "data": {
      "text/plain": [
       "<AxesSubplot:xlabel='workclass', ylabel='count'>"
      ]
     },
     "execution_count": 13,
     "metadata": {},
     "output_type": "execute_result"
    },
    {
     "data": {
      "image/png": "[encoded data removed]",
      "text/plain": [
       "<Figure size 1080x360 with 1 Axes>"
      ]
     },
     "metadata": {
      "needs_background": "light"
     },
     "output_type": "display_data"
    }
   ],
   "source": [
    "fig = plt.figure(figsize=(15,5))\n",
    "sns.countplot(data = df, x='workclass', order=df[\"workclass\"].value_counts().index)"
   ]
  },
  {
   "cell_type": "markdown",
   "id": "4c3b5e8d",
   "metadata": {
    "papermill": {
     "duration": 0.057551,
     "end_time": "2022-04-25T06:22:03.993043",
     "exception": false,
     "start_time": "2022-04-25T06:22:03.935492",
     "status": "completed"
    },
    "tags": []
   },
   "source": [
    "Private sector plays an important role."
   ]
  },
  {
   "cell_type": "markdown",
   "id": "0b7560f9",
   "metadata": {
    "papermill": {
     "duration": 0.057782,
     "end_time": "2022-04-25T06:22:04.108453",
     "exception": false,
     "start_time": "2022-04-25T06:22:04.050671",
     "status": "completed"
    },
    "tags": []
   },
   "source": [
    "## Workclass vs Salary"
   ]
  },
  {
   "cell_type": "code",
   "execution_count": 14,
   "id": "aa323a50",
   "metadata": {
    "execution": {
     "iopub.execute_input": "2022-04-25T06:22:04.227256Z",
     "iopub.status.busy": "2022-04-25T06:22:04.226673Z",
     "iopub.status.idle": "2022-04-25T06:22:04.525306Z",
     "shell.execute_reply": "2022-04-25T06:22:04.524861Z"
    },
    "papermill": {
     "duration": 0.359592,
     "end_time": "2022-04-25T06:22:04.526853",
     "exception": false,
     "start_time": "2022-04-25T06:22:04.167261",
     "status": "completed"
    },
    "tags": []
   },
   "outputs": [
    {
     "data": {
      "text/plain": [
       "<AxesSubplot:xlabel='workclass', ylabel='count'>"
      ]
     },
     "execution_count": 14,
     "metadata": {},
     "output_type": "execute_result"
    },
    {
     "data": {
      "image/png": "[encoded data removed]",
      "text/plain": [
       "<Figure size 1080x360 with 1 Axes>"
      ]
     },
     "metadata": {
      "needs_background": "light"
     },
     "output_type": "display_data"
    }
   ],
   "source": [
    "fig = plt.figure(figsize=(15,5))\n",
    "sns.countplot(data = df, x='workclass', hue=\"salary\")"
   ]
  },
  {
   "cell_type": "markdown",
   "id": "5e1b3345",
   "metadata": {
    "papermill": {
     "duration": 0.060315,
     "end_time": "2022-04-25T06:22:04.647329",
     "exception": false,
     "start_time": "2022-04-25T06:22:04.587014",
     "status": "completed"
    },
    "tags": []
   },
   "source": [
    "## Occupation"
   ]
  },
  {
   "cell_type": "code",
   "execution_count": 15,
   "id": "8a061f7d",
   "metadata": {
    "execution": {
     "iopub.execute_input": "2022-04-25T06:22:04.768692Z",
     "iopub.status.busy": "2022-04-25T06:22:04.767546Z",
     "iopub.status.idle": "2022-04-25T06:22:05.048550Z",
     "shell.execute_reply": "2022-04-25T06:22:05.047997Z"
    },
    "papermill": {
     "duration": 0.343647,
     "end_time": "2022-04-25T06:22:05.050420",
     "exception": false,
     "start_time": "2022-04-25T06:22:04.706773",
     "status": "completed"
    },
    "tags": []
   },
   "outputs": [
    {
     "data": {
      "image/png": "[encoded data removed]",
      "text/plain": [
       "<Figure size 1080x360 with 1 Axes>"
      ]
     },
     "metadata": {
      "needs_background": "light"
     },
     "output_type": "display_data"
    }
   ],
   "source": [
    "fig = plt.figure(figsize=(15,5))\n",
    "g = sns.countplot(data = df, x='occupation', order=df[\"occupation\"].value_counts().index)\n",
    "g.set_xticklabels(g.get_xticklabels(), rotation = 45)\n",
    "plt.show()"
   ]
  },
  {
   "cell_type": "markdown",
   "id": "59144106",
   "metadata": {
    "papermill": {
     "duration": 0.059457,
     "end_time": "2022-04-25T06:22:05.168376",
     "exception": false,
     "start_time": "2022-04-25T06:22:05.108919",
     "status": "completed"
    },
    "tags": []
   },
   "source": [
    "## Education vs Salary"
   ]
  },
  {
   "cell_type": "code",
   "execution_count": 16,
   "id": "4e29cea5",
   "metadata": {
    "execution": {
     "iopub.execute_input": "2022-04-25T06:22:05.291674Z",
     "iopub.status.busy": "2022-04-25T06:22:05.291177Z",
     "iopub.status.idle": "2022-04-25T06:22:05.679178Z",
     "shell.execute_reply": "2022-04-25T06:22:05.677990Z"
    },
    "papermill": {
     "duration": 0.451996,
     "end_time": "2022-04-25T06:22:05.680841",
     "exception": false,
     "start_time": "2022-04-25T06:22:05.228845",
     "status": "completed"
    },
    "tags": []
   },
   "outputs": [
    {
     "data": {
      "image/png": "[encoded data removed]",
      "text/plain": [
       "<Figure size 1080x360 with 1 Axes>"
      ]
     },
     "metadata": {
      "needs_background": "light"
     },
     "output_type": "display_data"
    }
   ],
   "source": [
    "fig = plt.figure(figsize=(15,5))\n",
    "g = sns.countplot(data = df, x='education', hue=\"salary\")\n",
    "g.set_xticklabels(g.get_xticklabels(), rotation = 45)\n",
    "plt.show()"
   ]
  },
  {
   "cell_type": "markdown",
   "id": "7878f82f",
   "metadata": {
    "papermill": {
     "duration": 0.061377,
     "end_time": "2022-04-25T06:22:05.804169",
     "exception": false,
     "start_time": "2022-04-25T06:22:05.742792",
     "status": "completed"
    },
    "tags": []
   },
   "source": [
    "## Years of  education vs Salary"
   ]
  },
  {
   "cell_type": "code",
   "execution_count": 17,
   "id": "fc47960f",
   "metadata": {
    "execution": {
     "iopub.execute_input": "2022-04-25T06:22:05.928014Z",
     "iopub.status.busy": "2022-04-25T06:22:05.927744Z",
     "iopub.status.idle": "2022-04-25T06:22:06.440466Z",
     "shell.execute_reply": "2022-04-25T06:22:06.439664Z"
    },
    "papermill": {
     "duration": 0.576515,
     "end_time": "2022-04-25T06:22:06.442265",
     "exception": false,
     "start_time": "2022-04-25T06:22:05.865750",
     "status": "completed"
    },
    "tags": []
   },
   "outputs": [
    {
     "data": {
      "image/png": "[encoded data removed]",
      "text/plain": [
       "<Figure size 1080x360 with 1 Axes>"
      ]
     },
     "metadata": {
      "needs_background": "light"
     },
     "output_type": "display_data"
    }
   ],
   "source": [
    "fig = plt.figure(figsize=(15,5))\n",
    "g = sns.countplot(data = df, x='education-num', hue='salary')\n",
    "g.set_xticklabels(g.get_xticklabels(), rotation = 45)\n",
    "plt.show()"
   ]
  },
  {
   "cell_type": "markdown",
   "id": "86907547",
   "metadata": {
    "papermill": {
     "duration": 0.061206,
     "end_time": "2022-04-25T06:22:06.565873",
     "exception": false,
     "start_time": "2022-04-25T06:22:06.504667",
     "status": "completed"
    },
    "tags": []
   },
   "source": [
    "# DATA PREPROCESSING"
   ]
  },
  {
   "cell_type": "markdown",
   "id": "f3b83800",
   "metadata": {
    "papermill": {
     "duration": 0.06098,
     "end_time": "2022-04-25T06:22:06.688925",
     "exception": false,
     "start_time": "2022-04-25T06:22:06.627945",
     "status": "completed"
    },
    "tags": []
   },
   "source": [
    "## Handeling Missing values"
   ]
  },
  {
   "cell_type": "code",
   "execution_count": 18,
   "id": "c9b45c01",
   "metadata": {
    "execution": {
     "iopub.execute_input": "2022-04-25T06:22:06.814273Z",
     "iopub.status.busy": "2022-04-25T06:22:06.813794Z",
     "iopub.status.idle": "2022-04-25T06:22:06.866880Z",
     "shell.execute_reply": "2022-04-25T06:22:06.864799Z"
    },
    "papermill": {
     "duration": 0.118192,
     "end_time": "2022-04-25T06:22:06.868943",
     "exception": false,
     "start_time": "2022-04-25T06:22:06.750751",
     "status": "completed"
    },
    "tags": []
   },
   "outputs": [],
   "source": [
    "df.replace(\" ?\", np.nan, inplace=True)\n",
    "df.fillna(\"other\", inplace=True)"
   ]
  },
  {
   "cell_type": "markdown",
   "id": "669dd789",
   "metadata": {
    "papermill": {
     "duration": 0.060776,
     "end_time": "2022-04-25T06:22:06.991237",
     "exception": false,
     "start_time": "2022-04-25T06:22:06.930461",
     "status": "completed"
    },
    "tags": []
   },
   "source": [
    "## Handeling Categorical values"
   ]
  },
  {
   "cell_type": "code",
   "execution_count": 19,
   "id": "0a6dbb5b",
   "metadata": {
    "execution": {
     "iopub.execute_input": "2022-04-25T06:22:07.117427Z",
     "iopub.status.busy": "2022-04-25T06:22:07.116927Z",
     "iopub.status.idle": "2022-04-25T06:22:07.121330Z",
     "shell.execute_reply": "2022-04-25T06:22:07.120769Z"
    },
    "papermill": {
     "duration": 0.069426,
     "end_time": "2022-04-25T06:22:07.123239",
     "exception": false,
     "start_time": "2022-04-25T06:22:07.053813",
     "status": "completed"
    },
    "tags": []
   },
   "outputs": [],
   "source": [
    "def label_encoding(col, df):\n",
    "    df[col]= LabelEncoder().fit_transform(df[col])"
   ]
  },
  {
   "cell_type": "code",
   "execution_count": 20,
   "id": "03ae8c9d",
   "metadata": {
    "execution": {
     "iopub.execute_input": "2022-04-25T06:22:07.249677Z",
     "iopub.status.busy": "2022-04-25T06:22:07.249152Z",
     "iopub.status.idle": "2022-04-25T06:22:07.254558Z",
     "shell.execute_reply": "2022-04-25T06:22:07.253749Z"
    },
    "papermill": {
     "duration": 0.069335,
     "end_time": "2022-04-25T06:22:07.256194",
     "exception": false,
     "start_time": "2022-04-25T06:22:07.186859",
     "status": "completed"
    },
    "tags": []
   },
   "outputs": [],
   "source": [
    "def onehotencoding(col, df):\n",
    "    temp = pd.get_dummies(data = df[col], drop_first=True, prefix=f\"{col}_\")\n",
    "    df = pd.concat([df, temp], axis=1)\n",
    "    df.drop(columns=[col], axis=1, inplace=True)\n",
    "    return df"
   ]
  },
  {
   "cell_type": "code",
   "execution_count": 21,
   "id": "f22c0008",
   "metadata": {
    "execution": {
     "iopub.execute_input": "2022-04-25T06:22:07.380309Z",
     "iopub.status.busy": "2022-04-25T06:22:07.379911Z",
     "iopub.status.idle": "2022-04-25T06:22:07.383326Z",
     "shell.execute_reply": "2022-04-25T06:22:07.382912Z"
    },
    "papermill": {
     "duration": 0.067175,
     "end_time": "2022-04-25T06:22:07.384824",
     "exception": false,
     "start_time": "2022-04-25T06:22:07.317649",
     "status": "completed"
    },
    "tags": []
   },
   "outputs": [],
   "source": [
    "categorical_col = [\"workclass\",\"education\",\"marital-status\", \"occupation\", \"relationship\", \"race\", \"native-country\"]\n",
    "binary_col = [\"sex\", \"salary\"]"
   ]
  },
  {
   "cell_type": "code",
   "execution_count": 22,
   "id": "9bcfe76c",
   "metadata": {
    "execution": {
     "iopub.execute_input": "2022-04-25T06:22:07.513418Z",
     "iopub.status.busy": "2022-04-25T06:22:07.513142Z",
     "iopub.status.idle": "2022-04-25T06:22:07.643899Z",
     "shell.execute_reply": "2022-04-25T06:22:07.642909Z"
    },
    "papermill": {
     "duration": 0.197371,
     "end_time": "2022-04-25T06:22:07.646067",
     "exception": false,
     "start_time": "2022-04-25T06:22:07.448696",
     "status": "completed"
    },
    "tags": []
   },
   "outputs": [],
   "source": [
    "for col in categorical_col:\n",
    "    label_encoding(col, df)\n",
    "    \n",
    "for col in binary_col:\n",
    "    df = onehotencoding(col, df)"
   ]
  },
  {
   "cell_type": "code",
   "execution_count": 23,
   "id": "f7128588",
   "metadata": {
    "execution": {
     "iopub.execute_input": "2022-04-25T06:22:07.772806Z",
     "iopub.status.busy": "2022-04-25T06:22:07.772508Z",
     "iopub.status.idle": "2022-04-25T06:22:07.789265Z",
     "shell.execute_reply": "2022-04-25T06:22:07.788782Z"
    },
    "papermill": {
     "duration": 0.082025,
     "end_time": "2022-04-25T06:22:07.790750",
     "exception": false,
     "start_time": "2022-04-25T06:22:07.708725",
     "status": "completed"
    },
    "tags": []
   },
   "outputs": [
    {
     "data": {
      "text/html": [
       "<div>\n",
       "<style scoped>\n",
       "    .dataframe tbody tr th:only-of-type {\n",
       "        vertical-align: middle;\n",
       "    }\n",
       "\n",
       "    .dataframe tbody tr th {\n",
       "        vertical-align: top;\n",
       "    }\n",
       "\n",
       "    .dataframe thead th {\n",
       "        text-align: right;\n",
       "    }\n",
       "</style>\n",
       "<table border=\"1\" class=\"dataframe\">\n",
       "  <thead>\n",
       "    <tr style=\"text-align: right;\">\n",
       "      <th></th>\n",
       "      <th>age</th>\n",
       "      <th>workclass</th>\n",
       "      <th>fnlwgt</th>\n",
       "      <th>education</th>\n",
       "      <th>education-num</th>\n",
       "      <th>marital-status</th>\n",
       "      <th>occupation</th>\n",
       "      <th>relationship</th>\n",
       "      <th>race</th>\n",
       "      <th>capital-gain</th>\n",
       "      <th>capital-loss</th>\n",
       "      <th>hours-per-week</th>\n",
       "      <th>native-country</th>\n",
       "      <th>sex__ Male</th>\n",
       "      <th>salary__ &gt;50K</th>\n",
       "    </tr>\n",
       "  </thead>\n",
       "  <tbody>\n",
       "    <tr>\n",
       "      <th>0</th>\n",
       "      <td>39</td>\n",
       "      <td>6</td>\n",
       "      <td>77516</td>\n",
       "      <td>9</td>\n",
       "      <td>13</td>\n",
       "      <td>4</td>\n",
       "      <td>0</td>\n",
       "      <td>1</td>\n",
       "      <td>4</td>\n",
       "      <td>2174</td>\n",
       "      <td>0</td>\n",
       "      <td>40</td>\n",
       "      <td>38</td>\n",
       "      <td>1</td>\n",
       "      <td>0</td>\n",
       "    </tr>\n",
       "    <tr>\n",
       "      <th>1</th>\n",
       "      <td>50</td>\n",
       "      <td>5</td>\n",
       "      <td>83311</td>\n",
       "      <td>9</td>\n",
       "      <td>13</td>\n",
       "      <td>2</td>\n",
       "      <td>3</td>\n",
       "      <td>0</td>\n",
       "      <td>4</td>\n",
       "      <td>0</td>\n",
       "      <td>0</td>\n",
       "      <td>13</td>\n",
       "      <td>38</td>\n",
       "      <td>1</td>\n",
       "      <td>0</td>\n",
       "    </tr>\n",
       "    <tr>\n",
       "      <th>2</th>\n",
       "      <td>38</td>\n",
       "      <td>3</td>\n",
       "      <td>215646</td>\n",
       "      <td>11</td>\n",
       "      <td>9</td>\n",
       "      <td>0</td>\n",
       "      <td>5</td>\n",
       "      <td>1</td>\n",
       "      <td>4</td>\n",
       "      <td>0</td>\n",
       "      <td>0</td>\n",
       "      <td>40</td>\n",
       "      <td>38</td>\n",
       "      <td>1</td>\n",
       "      <td>0</td>\n",
       "    </tr>\n",
       "    <tr>\n",
       "      <th>3</th>\n",
       "      <td>53</td>\n",
       "      <td>3</td>\n",
       "      <td>234721</td>\n",
       "      <td>1</td>\n",
       "      <td>7</td>\n",
       "      <td>2</td>\n",
       "      <td>5</td>\n",
       "      <td>0</td>\n",
       "      <td>2</td>\n",
       "      <td>0</td>\n",
       "      <td>0</td>\n",
       "      <td>40</td>\n",
       "      <td>38</td>\n",
       "      <td>1</td>\n",
       "      <td>0</td>\n",
       "    </tr>\n",
       "    <tr>\n",
       "      <th>4</th>\n",
       "      <td>28</td>\n",
       "      <td>3</td>\n",
       "      <td>338409</td>\n",
       "      <td>9</td>\n",
       "      <td>13</td>\n",
       "      <td>2</td>\n",
       "      <td>9</td>\n",
       "      <td>5</td>\n",
       "      <td>2</td>\n",
       "      <td>0</td>\n",
       "      <td>0</td>\n",
       "      <td>40</td>\n",
       "      <td>4</td>\n",
       "      <td>0</td>\n",
       "      <td>0</td>\n",
       "    </tr>\n",
       "  </tbody>\n",
       "</table>\n",
       "</div>"
      ],
      "text/plain": [
       "   age  workclass  fnlwgt  education  education-num  marital-status  \\\n",
       "0   39          6   77516          9             13               4   \n",
       "1   50          5   83311          9             13               2   \n",
       "2   38          3  215646         11              9               0   \n",
       "3   53          3  234721          1              7               2   \n",
       "4   28          3  338409          9             13               2   \n",
       "\n",
       "   occupation  relationship  race  capital-gain  capital-loss  hours-per-week  \\\n",
       "0           0             1     4          2174             0              40   \n",
       "1           3             0     4             0             0              13   \n",
       "2           5             1     4             0             0              40   \n",
       "3           5             0     2             0             0              40   \n",
       "4           9             5     2             0             0              40   \n",
       "\n",
       "   native-country  sex__ Male  salary__ >50K  \n",
       "0              38           1              0  \n",
       "1              38           1              0  \n",
       "2              38           1              0  \n",
       "3              38           1              0  \n",
       "4               4           0              0  "
      ]
     },
     "execution_count": 23,
     "metadata": {},
     "output_type": "execute_result"
    }
   ],
   "source": [
    "df.head()"
   ]
  },
  {
   "cell_type": "markdown",
   "id": "cf379853",
   "metadata": {
    "papermill": {
     "duration": 0.06369,
     "end_time": "2022-04-25T06:22:07.917981",
     "exception": false,
     "start_time": "2022-04-25T06:22:07.854291",
     "status": "completed"
    },
    "tags": []
   },
   "source": [
    "## Age Distribution + Handeling Outlier "
   ]
  },
  {
   "cell_type": "code",
   "execution_count": 24,
   "id": "0e727433",
   "metadata": {
    "execution": {
     "iopub.execute_input": "2022-04-25T06:22:08.046692Z",
     "iopub.status.busy": "2022-04-25T06:22:08.046444Z",
     "iopub.status.idle": "2022-04-25T06:22:08.568866Z",
     "shell.execute_reply": "2022-04-25T06:22:08.567651Z"
    },
    "papermill": {
     "duration": 0.590039,
     "end_time": "2022-04-25T06:22:08.571264",
     "exception": false,
     "start_time": "2022-04-25T06:22:07.981225",
     "status": "completed"
    },
    "tags": []
   },
   "outputs": [
    {
     "name": "stderr",
     "output_type": "stream",
     "text": [
      "/opt/conda/lib/python3.7/site-packages/seaborn/distributions.py:2619: FutureWarning: `distplot` is a deprecated function and will be removed in a future version. Please adapt your code to use either `displot` (a figure-level function with similar flexibility) or `histplot` (an axes-level function for histograms).\n",
      "  warnings.warn(msg, FutureWarning)\n",
      "/opt/conda/lib/python3.7/site-packages/seaborn/_decorators.py:43: FutureWarning: Pass the following variable as a keyword arg: x. From version 0.12, the only valid positional argument will be `data`, and passing other arguments without an explicit keyword will result in an error or misinterpretation.\n",
      "  FutureWarning\n"
     ]
    },
    {
     "data": {
      "text/plain": [
       "<AxesSubplot:xlabel='age'>"
      ]
     },
     "execution_count": 24,
     "metadata": {},
     "output_type": "execute_result"
    },
    {
     "data": {
      "image/png": "[encoded data removed]",
      "text/plain": [
       "<Figure size 1080x360 with 2 Axes>"
      ]
     },
     "metadata": {
      "needs_background": "light"
     },
     "output_type": "display_data"
    }
   ],
   "source": [
    "fig,ax = plt.subplots(1,2, figsize=(15,5))\n",
    "sns.distplot(df[\"age\"], kde=True, ax=ax[0])\n",
    "sns.boxplot(df[\"age\"], ax=ax[1])"
   ]
  },
  {
   "cell_type": "code",
   "execution_count": 25,
   "id": "fcf81f21",
   "metadata": {
    "execution": {
     "iopub.execute_input": "2022-04-25T06:22:08.703014Z",
     "iopub.status.busy": "2022-04-25T06:22:08.702641Z",
     "iopub.status.idle": "2022-04-25T06:22:08.749601Z",
     "shell.execute_reply": "2022-04-25T06:22:08.748325Z"
    },
    "papermill": {
     "duration": 0.115386,
     "end_time": "2022-04-25T06:22:08.751943",
     "exception": false,
     "start_time": "2022-04-25T06:22:08.636557",
     "status": "completed"
    },
    "tags": []
   },
   "outputs": [
    {
     "name": "stdout",
     "output_type": "stream",
     "text": [
      "age has 142 outliers\n"
     ]
    }
   ],
   "source": [
    "outliers = []\n",
    "q1 = df[\"age\"].quantile(0.25)\n",
    "q3 = df[\"age\"].quantile(0.75)\n",
    "iqr = q3-q1\n",
    "\n",
    "lower_bound = q1-1.5*iqr\n",
    "upper_bound = q3+1.5*iqr\n",
    "    \n",
    "for value in df[\"age\"]:\n",
    "    if value > upper_bound or value < lower_bound or value <=0:\n",
    "        outliers.append(value)\n",
    "            \n",
    "print(\"{} has {} outliers\".format(\"age\", len(outliers)))"
   ]
  },
  {
   "cell_type": "code",
   "execution_count": 26,
   "id": "9ef0afe1",
   "metadata": {
    "execution": {
     "iopub.execute_input": "2022-04-25T06:22:08.950684Z",
     "iopub.status.busy": "2022-04-25T06:22:08.949447Z",
     "iopub.status.idle": "2022-04-25T06:22:08.978419Z",
     "shell.execute_reply": "2022-04-25T06:22:08.977729Z"
    },
    "papermill": {
     "duration": 0.130764,
     "end_time": "2022-04-25T06:22:08.980914",
     "exception": false,
     "start_time": "2022-04-25T06:22:08.850150",
     "status": "completed"
    },
    "tags": []
   },
   "outputs": [],
   "source": [
    "mn = int(df[\"age\"].median())\n",
    "   \n",
    "for value in df[\"age\"]:\n",
    "    if value > upper_bound or value < lower_bound:\n",
    "        df[\"age\"] = df[\"age\"].replace(value, mn) #(replace(current_value, new_value))"
   ]
  },
  {
   "cell_type": "markdown",
   "id": "616849c7",
   "metadata": {
    "papermill": {
     "duration": 0.096421,
     "end_time": "2022-04-25T06:22:09.173791",
     "exception": false,
     "start_time": "2022-04-25T06:22:09.077370",
     "status": "completed"
    },
    "tags": []
   },
   "source": [
    "## Balancing the dataset Using SMOTE (Synthetic Minority Oversampling Technique)"
   ]
  },
  {
   "cell_type": "code",
   "execution_count": 27,
   "id": "d8c7f524",
   "metadata": {
    "execution": {
     "iopub.execute_input": "2022-04-25T06:22:09.372210Z",
     "iopub.status.busy": "2022-04-25T06:22:09.371971Z",
     "iopub.status.idle": "2022-04-25T06:22:09.587515Z",
     "shell.execute_reply": "2022-04-25T06:22:09.586130Z"
    },
    "papermill": {
     "duration": 0.319681,
     "end_time": "2022-04-25T06:22:09.590935",
     "exception": false,
     "start_time": "2022-04-25T06:22:09.271254",
     "status": "completed"
    },
    "tags": []
   },
   "outputs": [
    {
     "data": {
      "image/png": "[encoded data removed]",
      "text/plain": [
       "<Figure size 432x288 with 1 Axes>"
      ]
     },
     "metadata": {
      "needs_background": "light"
     },
     "output_type": "display_data"
    },
    {
     "name": "stdout",
     "output_type": "stream",
     "text": [
      "0    24698\n",
      "1    24698\n",
      "Name: salary__ >50K, dtype: int64\n"
     ]
    }
   ],
   "source": [
    "smote = SMOTE(random_state = 42)\n",
    "\n",
    "X = df.drop(['salary__ >50K'],axis=1)\n",
    "y = df['salary__ >50K']\n",
    "\n",
    "X,y= smote.fit_resample(X,y)\n",
    "y = pd.DataFrame({'salary__ >50K':y})\n",
    "sns.countplot(data = y, x = 'salary__ >50K', y= None)\n",
    "plt.show()\n",
    "print(y[\"salary__ >50K\"].value_counts())"
   ]
  },
  {
   "cell_type": "markdown",
   "id": "530fd2ca",
   "metadata": {
    "papermill": {
     "duration": 0.098328,
     "end_time": "2022-04-25T06:22:09.791319",
     "exception": false,
     "start_time": "2022-04-25T06:22:09.692991",
     "status": "completed"
    },
    "tags": []
   },
   "source": [
    "## Spliting the dataset into Training and Testing set"
   ]
  },
  {
   "cell_type": "code",
   "execution_count": 28,
   "id": "b8c3e2d2",
   "metadata": {
    "execution": {
     "iopub.execute_input": "2022-04-25T06:22:09.996034Z",
     "iopub.status.busy": "2022-04-25T06:22:09.995628Z",
     "iopub.status.idle": "2022-04-25T06:22:10.009948Z",
     "shell.execute_reply": "2022-04-25T06:22:10.009221Z"
    },
    "papermill": {
     "duration": 0.122194,
     "end_time": "2022-04-25T06:22:10.011885",
     "exception": false,
     "start_time": "2022-04-25T06:22:09.889691",
     "status": "completed"
    },
    "tags": []
   },
   "outputs": [
    {
     "data": {
      "text/plain": [
       "((39516, 14), (9880, 14))"
      ]
     },
     "execution_count": 28,
     "metadata": {},
     "output_type": "execute_result"
    }
   ],
   "source": [
    "X_train, X_test, y_train, y_test = train_test_split(X, y, test_size=0.2, random_state=42)\n",
    "X_train.shape, X_test.shape"
   ]
  },
  {
   "cell_type": "markdown",
   "id": "4f50a003",
   "metadata": {
    "papermill": {
     "duration": 0.097982,
     "end_time": "2022-04-25T06:22:10.208473",
     "exception": false,
     "start_time": "2022-04-25T06:22:10.110491",
     "status": "completed"
    },
    "tags": []
   },
   "source": [
    "## Removing Constant and Quasi-constant\n",
    "\n",
    "__Quasi-constant__: Quasi-constant features are those that show similar incentive for the incredible greater part of the dataset. In general, these features provide little, if any, information that allows a machine learning model to discriminate or predict a target. But there can be exceptions.\n",
    "\n",
    "__Constant__: Constant features are those that show the same value, just one value, for all the observations of the dataset. In other words, the same value for all the rows of the dataset. These features provide no information that allows a machine learning model to discriminate or predict a target."
   ]
  },
  {
   "cell_type": "code",
   "execution_count": 29,
   "id": "d5f3f1f0",
   "metadata": {
    "execution": {
     "iopub.execute_input": "2022-04-25T06:22:10.408161Z",
     "iopub.status.busy": "2022-04-25T06:22:10.407747Z",
     "iopub.status.idle": "2022-04-25T06:22:10.422359Z",
     "shell.execute_reply": "2022-04-25T06:22:10.421638Z"
    },
    "papermill": {
     "duration": 0.116239,
     "end_time": "2022-04-25T06:22:10.424628",
     "exception": false,
     "start_time": "2022-04-25T06:22:10.308389",
     "status": "completed"
    },
    "tags": []
   },
   "outputs": [
    {
     "data": {
      "text/plain": [
       "[]"
      ]
     },
     "execution_count": 29,
     "metadata": {},
     "output_type": "execute_result"
    }
   ],
   "source": [
    "# Removing constant feature\n",
    "\n",
    "cf = DropConstantFeatures(tol=1, variables=None, missing_values='raise')\n",
    "\n",
    "cf.fit(X_train)\n",
    "cf.features_to_drop_"
   ]
  },
  {
   "cell_type": "markdown",
   "id": "6614ab45",
   "metadata": {
    "papermill": {
     "duration": 0.099009,
     "end_time": "2022-04-25T06:22:10.622352",
     "exception": false,
     "start_time": "2022-04-25T06:22:10.523343",
     "status": "completed"
    },
    "tags": []
   },
   "source": [
    "We dont have any constant features."
   ]
  },
  {
   "cell_type": "code",
   "execution_count": 30,
   "id": "759e4e0e",
   "metadata": {
    "execution": {
     "iopub.execute_input": "2022-04-25T06:22:10.827670Z",
     "iopub.status.busy": "2022-04-25T06:22:10.827260Z",
     "iopub.status.idle": "2022-04-25T06:22:10.849099Z",
     "shell.execute_reply": "2022-04-25T06:22:10.848424Z"
    },
    "papermill": {
     "duration": 0.126904,
     "end_time": "2022-04-25T06:22:10.851089",
     "exception": false,
     "start_time": "2022-04-25T06:22:10.724185",
     "status": "completed"
    },
    "tags": []
   },
   "outputs": [
    {
     "data": {
      "text/plain": [
       "['capital-loss']"
      ]
     },
     "execution_count": 30,
     "metadata": {},
     "output_type": "execute_result"
    }
   ],
   "source": [
    "# Removing quasi-constant feature\n",
    "\n",
    "qcf = DropConstantFeatures(tol=0.90, variables=None, missing_values='raise')\n",
    "# here tol = threshold, you can set the threshold as per your requirment.\n",
    "\n",
    "qcf.fit(X_train)\n",
    "qcf.features_to_drop_"
   ]
  },
  {
   "cell_type": "code",
   "execution_count": 31,
   "id": "74a9e53e",
   "metadata": {
    "execution": {
     "iopub.execute_input": "2022-04-25T06:22:11.052078Z",
     "iopub.status.busy": "2022-04-25T06:22:11.051836Z",
     "iopub.status.idle": "2022-04-25T06:22:11.060182Z",
     "shell.execute_reply": "2022-04-25T06:22:11.059059Z"
    },
    "papermill": {
     "duration": 0.111779,
     "end_time": "2022-04-25T06:22:11.062773",
     "exception": false,
     "start_time": "2022-04-25T06:22:10.950994",
     "status": "completed"
    },
    "tags": []
   },
   "outputs": [
    {
     "data": {
      "text/plain": [
       "0       36950\n",
       "1902      248\n",
       "1887      198\n",
       "1977      184\n",
       "1848       58\n",
       "        ...  \n",
       "997         1\n",
       "1149        1\n",
       "2013        1\n",
       "1819        1\n",
       "1828        1\n",
       "Name: capital-loss, Length: 668, dtype: int64"
      ]
     },
     "execution_count": 31,
     "metadata": {},
     "output_type": "execute_result"
    }
   ],
   "source": [
    "X_train['capital-loss'].value_counts()"
   ]
  },
  {
   "cell_type": "markdown",
   "id": "2ec78af0",
   "metadata": {
    "papermill": {
     "duration": 0.101584,
     "end_time": "2022-04-25T06:22:11.266007",
     "exception": false,
     "start_time": "2022-04-25T06:22:11.164423",
     "status": "completed"
    },
    "tags": []
   },
   "source": [
    "So, more then 90% of the data for 'capital-loss' contains 0. Therefore we will drop it."
   ]
  },
  {
   "cell_type": "code",
   "execution_count": 32,
   "id": "1ff06ce4",
   "metadata": {
    "execution": {
     "iopub.execute_input": "2022-04-25T06:22:11.472904Z",
     "iopub.status.busy": "2022-04-25T06:22:11.472666Z",
     "iopub.status.idle": "2022-04-25T06:22:11.481144Z",
     "shell.execute_reply": "2022-04-25T06:22:11.480651Z"
    },
    "papermill": {
     "duration": 0.11257,
     "end_time": "2022-04-25T06:22:11.482789",
     "exception": false,
     "start_time": "2022-04-25T06:22:11.370219",
     "status": "completed"
    },
    "tags": []
   },
   "outputs": [
    {
     "data": {
      "text/plain": [
       "((39516, 13), (9880, 13))"
      ]
     },
     "execution_count": 32,
     "metadata": {},
     "output_type": "execute_result"
    }
   ],
   "source": [
    "X_train = qcf.transform(X_train)\n",
    "X_test = qcf.transform(X_test)\n",
    "\n",
    "X_train.shape, X_test.shape"
   ]
  },
  {
   "cell_type": "markdown",
   "id": "c996ffdc",
   "metadata": {
    "papermill": {
     "duration": 0.100325,
     "end_time": "2022-04-25T06:22:11.684195",
     "exception": false,
     "start_time": "2022-04-25T06:22:11.583870",
     "status": "completed"
    },
    "tags": []
   },
   "source": [
    "## Feature Selection"
   ]
  },
  {
   "cell_type": "code",
   "execution_count": 33,
   "id": "18c75f02",
   "metadata": {
    "execution": {
     "iopub.execute_input": "2022-04-25T06:22:11.886717Z",
     "iopub.status.busy": "2022-04-25T06:22:11.886456Z",
     "iopub.status.idle": "2022-04-25T06:22:44.031511Z",
     "shell.execute_reply": "2022-04-25T06:22:44.030666Z"
    },
    "papermill": {
     "duration": 32.249004,
     "end_time": "2022-04-25T06:22:44.033327",
     "exception": false,
     "start_time": "2022-04-25T06:22:11.784323",
     "status": "completed"
    },
    "tags": []
   },
   "outputs": [
    {
     "name": "stderr",
     "output_type": "stream",
     "text": [
      "[Parallel(n_jobs=1)]: Using backend SequentialBackend with 1 concurrent workers.\n",
      "[Parallel(n_jobs=1)]: Done   1 out of   1 | elapsed:    1.2s remaining:    0.0s\n",
      "[Parallel(n_jobs=1)]: Done  13 out of  13 | elapsed:    5.4s finished\n",
      "\n",
      "[2022-04-25 06:22:17] Features: 1/10 -- score: 0.795121436191486[Parallel(n_jobs=1)]: Using backend SequentialBackend with 1 concurrent workers.\n",
      "[Parallel(n_jobs=1)]: Done   1 out of   1 | elapsed:    0.3s remaining:    0.0s\n",
      "[Parallel(n_jobs=1)]: Done  12 out of  12 | elapsed:    4.1s finished\n",
      "\n",
      "[2022-04-25 06:22:21] Features: 2/10 -- score: 0.8940468385267173[Parallel(n_jobs=1)]: Using backend SequentialBackend with 1 concurrent workers.\n",
      "[Parallel(n_jobs=1)]: Done   1 out of   1 | elapsed:    0.4s remaining:    0.0s\n",
      "[Parallel(n_jobs=1)]: Done  11 out of  11 | elapsed:    3.9s finished\n",
      "\n",
      "[2022-04-25 06:22:25] Features: 3/10 -- score: 0.9268651448841301[Parallel(n_jobs=1)]: Using backend SequentialBackend with 1 concurrent workers.\n",
      "[Parallel(n_jobs=1)]: Done   1 out of   1 | elapsed:    0.4s remaining:    0.0s\n",
      "[Parallel(n_jobs=1)]: Done  10 out of  10 | elapsed:    3.7s finished\n",
      "\n",
      "[2022-04-25 06:22:28] Features: 4/10 -- score: 0.9424161863256622[Parallel(n_jobs=1)]: Using backend SequentialBackend with 1 concurrent workers.\n",
      "[Parallel(n_jobs=1)]: Done   1 out of   1 | elapsed:    0.4s remaining:    0.0s\n",
      "[Parallel(n_jobs=1)]: Done   9 out of   9 | elapsed:    3.3s finished\n",
      "\n",
      "[2022-04-25 06:22:32] Features: 5/10 -- score: 0.9463048707757551[Parallel(n_jobs=1)]: Using backend SequentialBackend with 1 concurrent workers.\n",
      "[Parallel(n_jobs=1)]: Done   1 out of   1 | elapsed:    0.4s remaining:    0.0s\n",
      "[Parallel(n_jobs=1)]: Done   8 out of   8 | elapsed:    3.0s finished\n",
      "\n",
      "[2022-04-25 06:22:35] Features: 6/10 -- score: 0.9468377414091442[Parallel(n_jobs=1)]: Using backend SequentialBackend with 1 concurrent workers.\n",
      "[Parallel(n_jobs=1)]: Done   1 out of   1 | elapsed:    0.4s remaining:    0.0s\n",
      "[Parallel(n_jobs=1)]: Done   7 out of   7 | elapsed:    2.7s finished\n",
      "\n",
      "[2022-04-25 06:22:37] Features: 7/10 -- score: 0.9463756996148631[Parallel(n_jobs=1)]: Using backend SequentialBackend with 1 concurrent workers.\n",
      "[Parallel(n_jobs=1)]: Done   1 out of   1 | elapsed:    0.4s remaining:    0.0s\n",
      "[Parallel(n_jobs=1)]: Done   6 out of   6 | elapsed:    2.4s finished\n",
      "\n",
      "[2022-04-25 06:22:40] Features: 8/10 -- score: 0.9443490461648758[Parallel(n_jobs=1)]: Using backend SequentialBackend with 1 concurrent workers.\n",
      "[Parallel(n_jobs=1)]: Done   1 out of   1 | elapsed:    0.4s remaining:    0.0s\n",
      "[Parallel(n_jobs=1)]: Done   5 out of   5 | elapsed:    2.1s finished\n",
      "\n",
      "[2022-04-25 06:22:42] Features: 9/10 -- score: 0.9430755139176688[Parallel(n_jobs=1)]: Using backend SequentialBackend with 1 concurrent workers.\n",
      "[Parallel(n_jobs=1)]: Done   1 out of   1 | elapsed:    0.4s remaining:    0.0s\n",
      "[Parallel(n_jobs=1)]: Done   4 out of   4 | elapsed:    1.7s finished\n",
      "\n",
      "[2022-04-25 06:22:44] Features: 10/10 -- score: 0.9404597774905432"
     ]
    }
   ],
   "source": [
    "sfs = SFS(RandomForestClassifier(n_estimators=10, n_jobs=4, random_state=0), \n",
    "           k_features=10, # the more features we want, the longer it will take to run, you can play around this number and obserb the result.\n",
    "           forward=True, \n",
    "           floating=False, \n",
    "           verbose=2, \n",
    "           scoring='roc_auc',\n",
    "           cv=2)\n",
    "\n",
    "sfs = sfs.fit(np.array(X_train), y_train.values.ravel())"
   ]
  },
  {
   "cell_type": "code",
   "execution_count": 34,
   "id": "86e149fd",
   "metadata": {
    "execution": {
     "iopub.execute_input": "2022-04-25T06:22:44.184221Z",
     "iopub.status.busy": "2022-04-25T06:22:44.182668Z",
     "iopub.status.idle": "2022-04-25T06:22:44.190050Z",
     "shell.execute_reply": "2022-04-25T06:22:44.189426Z"
    },
    "papermill": {
     "duration": 0.08434,
     "end_time": "2022-04-25T06:22:44.191417",
     "exception": false,
     "start_time": "2022-04-25T06:22:44.107077",
     "status": "completed"
    },
    "tags": []
   },
   "outputs": [
    {
     "data": {
      "text/plain": [
       "Index(['workclass', 'education', 'education-num', 'marital-status',\n",
       "       'occupation', 'relationship', 'race', 'capital-gain', 'native-country',\n",
       "       'sex__ Male'],\n",
       "      dtype='object')"
      ]
     },
     "execution_count": 34,
     "metadata": {},
     "output_type": "execute_result"
    }
   ],
   "source": [
    "selected_feat = X_train.columns[list(sfs.k_feature_idx_)]\n",
    "selected_feat"
   ]
  },
  {
   "cell_type": "markdown",
   "id": "09f7db21",
   "metadata": {
    "papermill": {
     "duration": 0.073201,
     "end_time": "2022-04-25T06:22:44.337079",
     "exception": false,
     "start_time": "2022-04-25T06:22:44.263878",
     "status": "completed"
    },
    "tags": []
   },
   "source": [
    "# MODEL BUILDING"
   ]
  },
  {
   "cell_type": "markdown",
   "id": "357bb354",
   "metadata": {
    "papermill": {
     "duration": 0.072011,
     "end_time": "2022-04-25T06:22:44.481702",
     "exception": false,
     "start_time": "2022-04-25T06:22:44.409691",
     "status": "completed"
    },
    "tags": []
   },
   "source": [
    "## Random Forest"
   ]
  },
  {
   "cell_type": "code",
   "execution_count": 35,
   "id": "b09975fe",
   "metadata": {
    "execution": {
     "iopub.execute_input": "2022-04-25T06:22:44.628238Z",
     "iopub.status.busy": "2022-04-25T06:22:44.627466Z",
     "iopub.status.idle": "2022-04-25T06:22:48.165405Z",
     "shell.execute_reply": "2022-04-25T06:22:48.164894Z"
    },
    "papermill": {
     "duration": 3.612978,
     "end_time": "2022-04-25T06:22:48.167125",
     "exception": false,
     "start_time": "2022-04-25T06:22:44.554147",
     "status": "completed"
    },
    "tags": []
   },
   "outputs": [
    {
     "data": {
      "text/plain": [
       "RandomForestClassifier(random_state=42)"
      ]
     },
     "execution_count": 35,
     "metadata": {},
     "output_type": "execute_result"
    }
   ],
   "source": [
    "rf = RandomForestClassifier(random_state=42)\n",
    "rf.fit(X_train[selected_feat], y_train.values.ravel())"
   ]
  },
  {
   "cell_type": "code",
   "execution_count": 36,
   "id": "74495007",
   "metadata": {
    "execution": {
     "iopub.execute_input": "2022-04-25T06:22:48.317099Z",
     "iopub.status.busy": "2022-04-25T06:22:48.316679Z",
     "iopub.status.idle": "2022-04-25T06:22:48.521378Z",
     "shell.execute_reply": "2022-04-25T06:22:48.520668Z"
    },
    "papermill": {
     "duration": 0.282451,
     "end_time": "2022-04-25T06:22:48.523147",
     "exception": false,
     "start_time": "2022-04-25T06:22:48.240696",
     "status": "completed"
    },
    "tags": []
   },
   "outputs": [],
   "source": [
    "y_pred = rf.predict(X_test[selected_feat])"
   ]
  },
  {
   "cell_type": "markdown",
   "id": "8ce1bae9",
   "metadata": {
    "papermill": {
     "duration": 0.073713,
     "end_time": "2022-04-25T06:22:48.670890",
     "exception": false,
     "start_time": "2022-04-25T06:22:48.597177",
     "status": "completed"
    },
    "tags": []
   },
   "source": [
    "## Results"
   ]
  },
  {
   "cell_type": "code",
   "execution_count": 37,
   "id": "e6a4916d",
   "metadata": {
    "execution": {
     "iopub.execute_input": "2022-04-25T06:22:48.821431Z",
     "iopub.status.busy": "2022-04-25T06:22:48.821227Z",
     "iopub.status.idle": "2022-04-25T06:22:48.828103Z",
     "shell.execute_reply": "2022-04-25T06:22:48.827444Z"
    },
    "papermill": {
     "duration": 0.084556,
     "end_time": "2022-04-25T06:22:48.829560",
     "exception": false,
     "start_time": "2022-04-25T06:22:48.745004",
     "status": "completed"
    },
    "tags": []
   },
   "outputs": [
    {
     "data": {
      "text/plain": [
       "0.8723684210526316"
      ]
     },
     "execution_count": 37,
     "metadata": {},
     "output_type": "execute_result"
    }
   ],
   "source": [
    "# Accuracy Score\n",
    "\n",
    "accuracy_score(y_test, y_pred)"
   ]
  },
  {
   "cell_type": "code",
   "execution_count": 38,
   "id": "85531987",
   "metadata": {
    "execution": {
     "iopub.execute_input": "2022-04-25T06:22:48.978410Z",
     "iopub.status.busy": "2022-04-25T06:22:48.978153Z",
     "iopub.status.idle": "2022-04-25T06:22:49.188121Z",
     "shell.execute_reply": "2022-04-25T06:22:49.186624Z"
    },
    "papermill": {
     "duration": 0.286272,
     "end_time": "2022-04-25T06:22:49.189800",
     "exception": false,
     "start_time": "2022-04-25T06:22:48.903528",
     "status": "completed"
    },
    "tags": []
   },
   "outputs": [
    {
     "data": {
      "text/plain": [
       "<AxesSubplot:>"
      ]
     },
     "execution_count": 38,
     "metadata": {},
     "output_type": "execute_result"
    },
    {
     "data": {
      "image/png": "[encoded data removed]",
      "text/plain": [
       "<Figure size 432x288 with 2 Axes>"
      ]
     },
     "metadata": {
      "needs_background": "light"
     },
     "output_type": "display_data"
    }
   ],
   "source": [
    "# Confusion matrix\n",
    "\n",
    "sns.heatmap(confusion_matrix(y_test, y_pred), annot= True, fmt='g')"
   ]
  },
  {
   "cell_type": "code",
   "execution_count": 39,
   "id": "624e8c5a",
   "metadata": {
    "execution": {
     "iopub.execute_input": "2022-04-25T06:22:49.345295Z",
     "iopub.status.busy": "2022-04-25T06:22:49.344704Z",
     "iopub.status.idle": "2022-04-25T06:22:49.366514Z",
     "shell.execute_reply": "2022-04-25T06:22:49.365888Z"
    },
    "papermill": {
     "duration": 0.10318,
     "end_time": "2022-04-25T06:22:49.368962",
     "exception": false,
     "start_time": "2022-04-25T06:22:49.265782",
     "status": "completed"
    },
    "tags": []
   },
   "outputs": [
    {
     "name": "stdout",
     "output_type": "stream",
     "text": [
      "              precision    recall  f1-score   support\n",
      "\n",
      "           0       0.86      0.89      0.87      4963\n",
      "           1       0.88      0.86      0.87      4917\n",
      "\n",
      "    accuracy                           0.87      9880\n",
      "   macro avg       0.87      0.87      0.87      9880\n",
      "weighted avg       0.87      0.87      0.87      9880\n",
      "\n"
     ]
    }
   ],
   "source": [
    "# Classification Report\n",
    "\n",
    "print(classification_report(y_test, y_pred))"
   ]
  },
  {
   "cell_type": "markdown",
   "id": "78f161c2",
   "metadata": {
    "papermill": {
     "duration": 0.077434,
     "end_time": "2022-04-25T06:22:49.522175",
     "exception": false,
     "start_time": "2022-04-25T06:22:49.444741",
     "status": "completed"
    },
    "tags": []
   },
   "source": [
    "## Hyperparameter tuning Random Forest"
   ]
  },
  {
   "cell_type": "code",
   "execution_count": 40,
   "id": "3478cda1",
   "metadata": {
    "execution": {
     "iopub.execute_input": "2022-04-25T06:22:49.676779Z",
     "iopub.status.busy": "2022-04-25T06:22:49.675639Z",
     "iopub.status.idle": "2022-04-25T06:22:49.686170Z",
     "shell.execute_reply": "2022-04-25T06:22:49.685123Z"
    },
    "papermill": {
     "duration": 0.089341,
     "end_time": "2022-04-25T06:22:49.687891",
     "exception": false,
     "start_time": "2022-04-25T06:22:49.598550",
     "status": "completed"
    },
    "tags": []
   },
   "outputs": [
    {
     "name": "stdout",
     "output_type": "stream",
     "text": [
      "{'n_estimators': [100, 200, 300, 400, 500, 600, 700, 800, 900, 1000, 1100, 1200, 1300, 1400, 1500, 1600, 1700, 1800, 1900, 2000], 'criterion': ['gini', 'entropy'], 'max_depth': [2, 5, 8, 11, 14, 17, 20, 23, 26, 30], 'min_samples_split': [2, 5, 10, 15, 100, 1000], 'min_samples_leaf': [1, 2, 5, 10, 15], 'max_features': ['auto', 'sqrt', 'log2']}\n"
     ]
    }
   ],
   "source": [
    "n_estimators=[int(x) for x in np.linspace(start=100,stop=2000,num=20)]\n",
    "criterion=['gini','entropy']\n",
    "max_depth=[int(x) for x in np.linspace(start=2,stop=30,num=10)]\n",
    "min_samples_split=[2,5,10,15,100,1000]\n",
    "min_samples_leaf=[1,2,5,10,15]\n",
    "max_features=['auto','sqrt','log2']\n",
    "\n",
    "\n",
    "rf_random_grid = {\n",
    "    'n_estimators':n_estimators,\n",
    "    'criterion':criterion,\n",
    "    'max_depth':max_depth,\n",
    "    'min_samples_split':min_samples_split,\n",
    "    'min_samples_leaf':min_samples_leaf,\n",
    "    'max_features':max_features\n",
    "}\n",
    "\n",
    "print(rf_random_grid)"
   ]
  },
  {
   "cell_type": "code",
   "execution_count": 41,
   "id": "c7c55f31",
   "metadata": {
    "execution": {
     "iopub.execute_input": "2022-04-25T06:22:49.846388Z",
     "iopub.status.busy": "2022-04-25T06:22:49.845436Z",
     "iopub.status.idle": "2022-04-25T06:22:49.851243Z",
     "shell.execute_reply": "2022-04-25T06:22:49.849696Z"
    },
    "papermill": {
     "duration": 0.084628,
     "end_time": "2022-04-25T06:22:49.853326",
     "exception": false,
     "start_time": "2022-04-25T06:22:49.768698",
     "status": "completed"
    },
    "tags": []
   },
   "outputs": [],
   "source": [
    "rfc = RandomForestClassifier()\n",
    "\n",
    "rfc = RandomizedSearchCV(estimator=rfc, param_distributions=rf_random_grid, n_iter=20, cv=5, verbose=2, random_state=42, n_jobs=1)"
   ]
  },
  {
   "cell_type": "code",
   "execution_count": 42,
   "id": "3f60b028",
   "metadata": {
    "execution": {
     "iopub.execute_input": "2022-04-25T06:22:50.008212Z",
     "iopub.status.busy": "2022-04-25T06:22:50.007411Z",
     "iopub.status.idle": "2022-04-25T06:50:29.743357Z",
     "shell.execute_reply": "2022-04-25T06:50:29.742654Z"
    },
    "papermill": {
     "duration": 1659.97926,
     "end_time": "2022-04-25T06:50:29.909258",
     "exception": false,
     "start_time": "2022-04-25T06:22:49.929998",
     "status": "completed"
    },
    "tags": []
   },
   "outputs": [
    {
     "name": "stdout",
     "output_type": "stream",
     "text": [
      "Fitting 5 folds for each of 20 candidates, totalling 100 fits\n",
      "[CV] END criterion=gini, max_depth=26, max_features=log2, min_samples_leaf=2, min_samples_split=15, n_estimators=1600; total time=  39.6s\n",
      "[CV] END criterion=gini, max_depth=26, max_features=log2, min_samples_leaf=2, min_samples_split=15, n_estimators=1600; total time=  39.2s\n",
      "[CV] END criterion=gini, max_depth=26, max_features=log2, min_samples_leaf=2, min_samples_split=15, n_estimators=1600; total time=  38.8s\n",
      "[CV] END criterion=gini, max_depth=26, max_features=log2, min_samples_leaf=2, min_samples_split=15, n_estimators=1600; total time=  39.3s\n",
      "[CV] END criterion=gini, max_depth=26, max_features=log2, min_samples_leaf=2, min_samples_split=15, n_estimators=1600; total time=  39.7s\n",
      "[CV] END criterion=gini, max_depth=2, max_features=sqrt, min_samples_leaf=5, min_samples_split=5, n_estimators=100; total time=   0.8s\n",
      "[CV] END criterion=gini, max_depth=2, max_features=sqrt, min_samples_leaf=5, min_samples_split=5, n_estimators=100; total time=   0.8s\n",
      "[CV] END criterion=gini, max_depth=2, max_features=sqrt, min_samples_leaf=5, min_samples_split=5, n_estimators=100; total time=   0.8s\n",
      "[CV] END criterion=gini, max_depth=2, max_features=sqrt, min_samples_leaf=5, min_samples_split=5, n_estimators=100; total time=   0.8s\n",
      "[CV] END criterion=gini, max_depth=2, max_features=sqrt, min_samples_leaf=5, min_samples_split=5, n_estimators=100; total time=   0.8s\n",
      "[CV] END criterion=gini, max_depth=20, max_features=auto, min_samples_leaf=15, min_samples_split=2, n_estimators=500; total time=  10.8s\n",
      "[CV] END criterion=gini, max_depth=20, max_features=auto, min_samples_leaf=15, min_samples_split=2, n_estimators=500; total time=  10.7s\n",
      "[CV] END criterion=gini, max_depth=20, max_features=auto, min_samples_leaf=15, min_samples_split=2, n_estimators=500; total time=  11.0s\n",
      "[CV] END criterion=gini, max_depth=20, max_features=auto, min_samples_leaf=15, min_samples_split=2, n_estimators=500; total time=  11.4s\n",
      "[CV] END criterion=gini, max_depth=20, max_features=auto, min_samples_leaf=15, min_samples_split=2, n_estimators=500; total time=  11.5s\n",
      "[CV] END criterion=gini, max_depth=11, max_features=sqrt, min_samples_leaf=5, min_samples_split=5, n_estimators=600; total time=  11.9s\n",
      "[CV] END criterion=gini, max_depth=11, max_features=sqrt, min_samples_leaf=5, min_samples_split=5, n_estimators=600; total time=  11.9s\n",
      "[CV] END criterion=gini, max_depth=11, max_features=sqrt, min_samples_leaf=5, min_samples_split=5, n_estimators=600; total time=  11.9s\n",
      "[CV] END criterion=gini, max_depth=11, max_features=sqrt, min_samples_leaf=5, min_samples_split=5, n_estimators=600; total time=  12.6s\n",
      "[CV] END criterion=gini, max_depth=11, max_features=sqrt, min_samples_leaf=5, min_samples_split=5, n_estimators=600; total time=  12.7s\n",
      "[CV] END criterion=gini, max_depth=30, max_features=sqrt, min_samples_leaf=1, min_samples_split=10, n_estimators=1100; total time=  30.9s\n",
      "[CV] END criterion=gini, max_depth=30, max_features=sqrt, min_samples_leaf=1, min_samples_split=10, n_estimators=1100; total time=  31.2s\n",
      "[CV] END criterion=gini, max_depth=30, max_features=sqrt, min_samples_leaf=1, min_samples_split=10, n_estimators=1100; total time=  31.0s\n",
      "[CV] END criterion=gini, max_depth=30, max_features=sqrt, min_samples_leaf=1, min_samples_split=10, n_estimators=1100; total time=  31.0s\n",
      "[CV] END criterion=gini, max_depth=30, max_features=sqrt, min_samples_leaf=1, min_samples_split=10, n_estimators=1100; total time=  30.9s\n",
      "[CV] END criterion=entropy, max_depth=8, max_features=auto, min_samples_leaf=10, min_samples_split=2, n_estimators=300; total time=   5.5s\n",
      "[CV] END criterion=entropy, max_depth=8, max_features=auto, min_samples_leaf=10, min_samples_split=2, n_estimators=300; total time=   5.5s\n",
      "[CV] END criterion=entropy, max_depth=8, max_features=auto, min_samples_leaf=10, min_samples_split=2, n_estimators=300; total time=   5.6s\n",
      "[CV] END criterion=entropy, max_depth=8, max_features=auto, min_samples_leaf=10, min_samples_split=2, n_estimators=300; total time=   5.5s\n",
      "[CV] END criterion=entropy, max_depth=8, max_features=auto, min_samples_leaf=10, min_samples_split=2, n_estimators=300; total time=   5.5s\n",
      "[CV] END criterion=gini, max_depth=26, max_features=log2, min_samples_leaf=10, min_samples_split=15, n_estimators=400; total time=   9.5s\n",
      "[CV] END criterion=gini, max_depth=26, max_features=log2, min_samples_leaf=10, min_samples_split=15, n_estimators=400; total time=   9.4s\n",
      "[CV] END criterion=gini, max_depth=26, max_features=log2, min_samples_leaf=10, min_samples_split=15, n_estimators=400; total time=   9.6s\n",
      "[CV] END criterion=gini, max_depth=26, max_features=log2, min_samples_leaf=10, min_samples_split=15, n_estimators=400; total time=   9.5s\n",
      "[CV] END criterion=gini, max_depth=26, max_features=log2, min_samples_leaf=10, min_samples_split=15, n_estimators=400; total time=   9.4s\n",
      "[CV] END criterion=gini, max_depth=2, max_features=log2, min_samples_leaf=15, min_samples_split=2, n_estimators=600; total time=   5.5s\n",
      "[CV] END criterion=gini, max_depth=2, max_features=log2, min_samples_leaf=15, min_samples_split=2, n_estimators=600; total time=   5.4s\n",
      "[CV] END criterion=gini, max_depth=2, max_features=log2, min_samples_leaf=15, min_samples_split=2, n_estimators=600; total time=   5.0s\n",
      "[CV] END criterion=gini, max_depth=2, max_features=log2, min_samples_leaf=15, min_samples_split=2, n_estimators=600; total time=   5.4s\n",
      "[CV] END criterion=gini, max_depth=2, max_features=log2, min_samples_leaf=15, min_samples_split=2, n_estimators=600; total time=   5.1s\n",
      "[CV] END criterion=gini, max_depth=2, max_features=sqrt, min_samples_leaf=2, min_samples_split=10, n_estimators=1000; total time=   8.0s\n",
      "[CV] END criterion=gini, max_depth=2, max_features=sqrt, min_samples_leaf=2, min_samples_split=10, n_estimators=1000; total time=   9.0s\n",
      "[CV] END criterion=gini, max_depth=2, max_features=sqrt, min_samples_leaf=2, min_samples_split=10, n_estimators=1000; total time=   8.2s\n",
      "[CV] END criterion=gini, max_depth=2, max_features=sqrt, min_samples_leaf=2, min_samples_split=10, n_estimators=1000; total time=   8.0s\n",
      "[CV] END criterion=gini, max_depth=2, max_features=sqrt, min_samples_leaf=2, min_samples_split=10, n_estimators=1000; total time=   8.0s\n",
      "[CV] END criterion=gini, max_depth=5, max_features=sqrt, min_samples_leaf=1, min_samples_split=5, n_estimators=1400; total time=  19.1s\n",
      "[CV] END criterion=gini, max_depth=5, max_features=sqrt, min_samples_leaf=1, min_samples_split=5, n_estimators=1400; total time=  19.7s\n",
      "[CV] END criterion=gini, max_depth=5, max_features=sqrt, min_samples_leaf=1, min_samples_split=5, n_estimators=1400; total time=  19.6s\n",
      "[CV] END criterion=gini, max_depth=5, max_features=sqrt, min_samples_leaf=1, min_samples_split=5, n_estimators=1400; total time=  18.9s\n",
      "[CV] END criterion=gini, max_depth=5, max_features=sqrt, min_samples_leaf=1, min_samples_split=5, n_estimators=1400; total time=  18.1s\n",
      "[CV] END criterion=gini, max_depth=8, max_features=log2, min_samples_leaf=15, min_samples_split=5, n_estimators=1200; total time=  20.0s\n",
      "[CV] END criterion=gini, max_depth=8, max_features=log2, min_samples_leaf=15, min_samples_split=5, n_estimators=1200; total time=  20.1s\n",
      "[CV] END criterion=gini, max_depth=8, max_features=log2, min_samples_leaf=15, min_samples_split=5, n_estimators=1200; total time=  20.0s\n",
      "[CV] END criterion=gini, max_depth=8, max_features=log2, min_samples_leaf=15, min_samples_split=5, n_estimators=1200; total time=  20.8s\n",
      "[CV] END criterion=gini, max_depth=8, max_features=log2, min_samples_leaf=15, min_samples_split=5, n_estimators=1200; total time=  21.5s\n",
      "[CV] END criterion=gini, max_depth=30, max_features=log2, min_samples_leaf=2, min_samples_split=10, n_estimators=900; total time=  23.9s\n",
      "[CV] END criterion=gini, max_depth=30, max_features=log2, min_samples_leaf=2, min_samples_split=10, n_estimators=900; total time=  22.3s\n",
      "[CV] END criterion=gini, max_depth=30, max_features=log2, min_samples_leaf=2, min_samples_split=10, n_estimators=900; total time=  22.7s\n",
      "[CV] END criterion=gini, max_depth=30, max_features=log2, min_samples_leaf=2, min_samples_split=10, n_estimators=900; total time=  24.0s\n",
      "[CV] END criterion=gini, max_depth=30, max_features=log2, min_samples_leaf=2, min_samples_split=10, n_estimators=900; total time=  22.3s\n",
      "[CV] END criterion=entropy, max_depth=2, max_features=log2, min_samples_leaf=15, min_samples_split=100, n_estimators=1000; total time=   8.3s\n",
      "[CV] END criterion=entropy, max_depth=2, max_features=log2, min_samples_leaf=15, min_samples_split=100, n_estimators=1000; total time=   8.6s\n",
      "[CV] END criterion=entropy, max_depth=2, max_features=log2, min_samples_leaf=15, min_samples_split=100, n_estimators=1000; total time=   9.2s\n",
      "[CV] END criterion=entropy, max_depth=2, max_features=log2, min_samples_leaf=15, min_samples_split=100, n_estimators=1000; total time=   9.2s\n",
      "[CV] END criterion=entropy, max_depth=2, max_features=log2, min_samples_leaf=15, min_samples_split=100, n_estimators=1000; total time=   9.3s\n",
      "[CV] END criterion=entropy, max_depth=17, max_features=log2, min_samples_leaf=15, min_samples_split=2, n_estimators=1400; total time=  32.8s\n",
      "[CV] END criterion=entropy, max_depth=17, max_features=log2, min_samples_leaf=15, min_samples_split=2, n_estimators=1400; total time=  33.0s\n",
      "[CV] END criterion=entropy, max_depth=17, max_features=log2, min_samples_leaf=15, min_samples_split=2, n_estimators=1400; total time=  32.8s\n",
      "[CV] END criterion=entropy, max_depth=17, max_features=log2, min_samples_leaf=15, min_samples_split=2, n_estimators=1400; total time=  32.5s\n",
      "[CV] END criterion=entropy, max_depth=17, max_features=log2, min_samples_leaf=15, min_samples_split=2, n_estimators=1400; total time=  29.8s\n",
      "[CV] END criterion=gini, max_depth=11, max_features=sqrt, min_samples_leaf=10, min_samples_split=5, n_estimators=1700; total time=  33.1s\n",
      "[CV] END criterion=gini, max_depth=11, max_features=sqrt, min_samples_leaf=10, min_samples_split=5, n_estimators=1700; total time=  33.6s\n",
      "[CV] END criterion=gini, max_depth=11, max_features=sqrt, min_samples_leaf=10, min_samples_split=5, n_estimators=1700; total time=  33.7s\n",
      "[CV] END criterion=gini, max_depth=11, max_features=sqrt, min_samples_leaf=10, min_samples_split=5, n_estimators=1700; total time=  33.3s\n",
      "[CV] END criterion=gini, max_depth=11, max_features=sqrt, min_samples_leaf=10, min_samples_split=5, n_estimators=1700; total time=  35.6s\n",
      "[CV] END criterion=entropy, max_depth=17, max_features=auto, min_samples_leaf=15, min_samples_split=2, n_estimators=100; total time=   2.3s\n",
      "[CV] END criterion=entropy, max_depth=17, max_features=auto, min_samples_leaf=15, min_samples_split=2, n_estimators=100; total time=   2.4s\n",
      "[CV] END criterion=entropy, max_depth=17, max_features=auto, min_samples_leaf=15, min_samples_split=2, n_estimators=100; total time=   2.3s\n",
      "[CV] END criterion=entropy, max_depth=17, max_features=auto, min_samples_leaf=15, min_samples_split=2, n_estimators=100; total time=   2.2s\n",
      "[CV] END criterion=entropy, max_depth=17, max_features=auto, min_samples_leaf=15, min_samples_split=2, n_estimators=100; total time=   2.1s\n",
      "[CV] END criterion=entropy, max_depth=14, max_features=auto, min_samples_leaf=10, min_samples_split=100, n_estimators=1900; total time=  39.0s\n",
      "[CV] END criterion=entropy, max_depth=14, max_features=auto, min_samples_leaf=10, min_samples_split=100, n_estimators=1900; total time=  38.9s\n",
      "[CV] END criterion=entropy, max_depth=14, max_features=auto, min_samples_leaf=10, min_samples_split=100, n_estimators=1900; total time=  39.4s\n",
      "[CV] END criterion=entropy, max_depth=14, max_features=auto, min_samples_leaf=10, min_samples_split=100, n_estimators=1900; total time=  41.9s\n",
      "[CV] END criterion=entropy, max_depth=14, max_features=auto, min_samples_leaf=10, min_samples_split=100, n_estimators=1900; total time=  40.7s\n",
      "[CV] END criterion=entropy, max_depth=2, max_features=sqrt, min_samples_leaf=5, min_samples_split=1000, n_estimators=300; total time=   2.4s\n",
      "[CV] END criterion=entropy, max_depth=2, max_features=sqrt, min_samples_leaf=5, min_samples_split=1000, n_estimators=300; total time=   2.4s\n",
      "[CV] END criterion=entropy, max_depth=2, max_features=sqrt, min_samples_leaf=5, min_samples_split=1000, n_estimators=300; total time=   2.4s\n",
      "[CV] END criterion=entropy, max_depth=2, max_features=sqrt, min_samples_leaf=5, min_samples_split=1000, n_estimators=300; total time=   2.4s\n",
      "[CV] END criterion=entropy, max_depth=2, max_features=sqrt, min_samples_leaf=5, min_samples_split=1000, n_estimators=300; total time=   2.4s\n",
      "[CV] END criterion=entropy, max_depth=2, max_features=auto, min_samples_leaf=10, min_samples_split=15, n_estimators=1200; total time=   9.6s\n",
      "[CV] END criterion=entropy, max_depth=2, max_features=auto, min_samples_leaf=10, min_samples_split=15, n_estimators=1200; total time=   9.6s\n",
      "[CV] END criterion=entropy, max_depth=2, max_features=auto, min_samples_leaf=10, min_samples_split=15, n_estimators=1200; total time=   9.6s\n",
      "[CV] END criterion=entropy, max_depth=2, max_features=auto, min_samples_leaf=10, min_samples_split=15, n_estimators=1200; total time=   9.6s\n",
      "[CV] END criterion=entropy, max_depth=2, max_features=auto, min_samples_leaf=10, min_samples_split=15, n_estimators=1200; total time=   9.6s\n",
      "[CV] END criterion=gini, max_depth=5, max_features=sqrt, min_samples_leaf=5, min_samples_split=1000, n_estimators=800; total time=  10.0s\n",
      "[CV] END criterion=gini, max_depth=5, max_features=sqrt, min_samples_leaf=5, min_samples_split=1000, n_estimators=800; total time=  10.0s\n",
      "[CV] END criterion=gini, max_depth=5, max_features=sqrt, min_samples_leaf=5, min_samples_split=1000, n_estimators=800; total time=  10.6s\n",
      "[CV] END criterion=gini, max_depth=5, max_features=sqrt, min_samples_leaf=5, min_samples_split=1000, n_estimators=800; total time=  10.0s\n",
      "[CV] END criterion=gini, max_depth=5, max_features=sqrt, min_samples_leaf=5, min_samples_split=1000, n_estimators=800; total time=  10.2s\n"
     ]
    },
    {
     "data": {
      "text/plain": [
       "RandomizedSearchCV(cv=5, estimator=RandomForestClassifier(), n_iter=20,\n",
       "                   n_jobs=1,\n",
       "                   param_distributions={'criterion': ['gini', 'entropy'],\n",
       "                                        'max_depth': [2, 5, 8, 11, 14, 17, 20,\n",
       "                                                      23, 26, 30],\n",
       "                                        'max_features': ['auto', 'sqrt',\n",
       "                                                         'log2'],\n",
       "                                        'min_samples_leaf': [1, 2, 5, 10, 15],\n",
       "                                        'min_samples_split': [2, 5, 10, 15, 100,\n",
       "                                                              1000],\n",
       "                                        'n_estimators': [100, 200, 300, 400,\n",
       "                                                         500, 600, 700, 800,\n",
       "                                                         900, 1000, 1100, 1200,\n",
       "                                                         1300, 1400, 1500, 1600,\n",
       "                                                         1700, 1800, 1900,\n",
       "                                                         2000]},\n",
       "                   random_state=42, verbose=2)"
      ]
     },
     "execution_count": 42,
     "metadata": {},
     "output_type": "execute_result"
    }
   ],
   "source": [
    "rfc.fit(X_train[selected_feat],y_train.values.ravel())"
   ]
  },
  {
   "cell_type": "code",
   "execution_count": 43,
   "id": "f533b3d7",
   "metadata": {
    "execution": {
     "iopub.execute_input": "2022-04-25T06:50:30.233680Z",
     "iopub.status.busy": "2022-04-25T06:50:30.232704Z",
     "iopub.status.idle": "2022-04-25T06:50:30.238927Z",
     "shell.execute_reply": "2022-04-25T06:50:30.238216Z"
    },
    "papermill": {
     "duration": 0.169976,
     "end_time": "2022-04-25T06:50:30.240859",
     "exception": false,
     "start_time": "2022-04-25T06:50:30.070883",
     "status": "completed"
    },
    "tags": []
   },
   "outputs": [
    {
     "data": {
      "text/plain": [
       "{'n_estimators': 1100,\n",
       " 'min_samples_split': 10,\n",
       " 'min_samples_leaf': 1,\n",
       " 'max_features': 'sqrt',\n",
       " 'max_depth': 30,\n",
       " 'criterion': 'gini'}"
      ]
     },
     "execution_count": 43,
     "metadata": {},
     "output_type": "execute_result"
    }
   ],
   "source": [
    "rfc.best_params_"
   ]
  },
  {
   "cell_type": "markdown",
   "id": "2a9984b7",
   "metadata": {
    "papermill": {
     "duration": 0.160398,
     "end_time": "2022-04-25T06:50:30.563751",
     "exception": false,
     "start_time": "2022-04-25T06:50:30.403353",
     "status": "completed"
    },
    "tags": []
   },
   "source": [
    "## Results"
   ]
  },
  {
   "cell_type": "code",
   "execution_count": 44,
   "id": "f15d00a4",
   "metadata": {
    "execution": {
     "iopub.execute_input": "2022-04-25T06:50:30.888309Z",
     "iopub.status.busy": "2022-04-25T06:50:30.887375Z",
     "iopub.status.idle": "2022-04-25T06:50:32.914299Z",
     "shell.execute_reply": "2022-04-25T06:50:32.912921Z"
    },
    "papermill": {
     "duration": 2.190453,
     "end_time": "2022-04-25T06:50:32.916795",
     "exception": false,
     "start_time": "2022-04-25T06:50:30.726342",
     "status": "completed"
    },
    "tags": []
   },
   "outputs": [
    {
     "data": {
      "text/plain": [
       "0.8758097165991903"
      ]
     },
     "execution_count": 44,
     "metadata": {},
     "output_type": "execute_result"
    }
   ],
   "source": [
    "# Accuracy Score\n",
    "\n",
    "y_predict = rfc.predict(X_test[selected_feat])\n",
    "accuracy_score(y_predict,y_test)"
   ]
  },
  {
   "cell_type": "markdown",
   "id": "3bd45a09",
   "metadata": {
    "papermill": {
     "duration": 0.162516,
     "end_time": "2022-04-25T06:50:33.245493",
     "exception": false,
     "start_time": "2022-04-25T06:50:33.082977",
     "status": "completed"
    },
    "tags": []
   },
   "source": [
    "Not much of an improvement in the accuracy, but still its good practice to do parameter tuning."
   ]
  },
  {
   "cell_type": "code",
   "execution_count": 45,
   "id": "d8c6ce71",
   "metadata": {
    "execution": {
     "iopub.execute_input": "2022-04-25T06:50:33.576736Z",
     "iopub.status.busy": "2022-04-25T06:50:33.576473Z",
     "iopub.status.idle": "2022-04-25T06:50:33.739135Z",
     "shell.execute_reply": "2022-04-25T06:50:33.738451Z"
    },
    "papermill": {
     "duration": 0.33135,
     "end_time": "2022-04-25T06:50:33.741228",
     "exception": false,
     "start_time": "2022-04-25T06:50:33.409878",
     "status": "completed"
    },
    "tags": []
   },
   "outputs": [
    {
     "data": {
      "text/plain": [
       "<AxesSubplot:>"
      ]
     },
     "execution_count": 45,
     "metadata": {},
     "output_type": "execute_result"
    },
    {
     "data": {
      "image/png": "[encoded data removed]",
      "text/plain": [
       "<Figure size 432x288 with 2 Axes>"
      ]
     },
     "metadata": {
      "needs_background": "light"
     },
     "output_type": "display_data"
    }
   ],
   "source": [
    "# Confusion Matrix\n",
    "\n",
    "sns.heatmap(confusion_matrix(y_test, y_pred), annot= True, fmt='g')"
   ]
  },
  {
   "cell_type": "code",
   "execution_count": 46,
   "id": "42e9b846",
   "metadata": {
    "execution": {
     "iopub.execute_input": "2022-04-25T06:50:34.073277Z",
     "iopub.status.busy": "2022-04-25T06:50:34.073036Z",
     "iopub.status.idle": "2022-04-25T06:50:34.094552Z",
     "shell.execute_reply": "2022-04-25T06:50:34.092992Z"
    },
    "papermill": {
     "duration": 0.189585,
     "end_time": "2022-04-25T06:50:34.096826",
     "exception": false,
     "start_time": "2022-04-25T06:50:33.907241",
     "status": "completed"
    },
    "tags": []
   },
   "outputs": [
    {
     "name": "stdout",
     "output_type": "stream",
     "text": [
      "              precision    recall  f1-score   support\n",
      "\n",
      "           0       0.86      0.89      0.87      4963\n",
      "           1       0.88      0.86      0.87      4917\n",
      "\n",
      "    accuracy                           0.87      9880\n",
      "   macro avg       0.87      0.87      0.87      9880\n",
      "weighted avg       0.87      0.87      0.87      9880\n",
      "\n"
     ]
    }
   ],
   "source": [
    "# Classification Report\n",
    "\n",
    "print(classification_report(y_test, y_pred))"
   ]
  }
 ],
 "metadata": {
  "kernelspec": {
   "display_name": "Python 3",
   "language": "python",
   "name": "python3"
  },
  "language_info": {
   "codemirror_mode": {
    "name": "ipython",
    "version": 3
   },
   "file_extension": ".py",
   "mimetype": "text/x-python",
   "name": "python",
   "nbconvert_exporter": "python",
   "pygments_lexer": "ipython3",
   "version": "3.8.8"
  },
  "papermill": {
   "default_parameters": {},
   "duration": 1744.72556,
   "end_time": "2022-04-25T06:50:37.049723",
   "environment_variables": {},
   "exception": null,
   "input_path": "__notebook__.ipynb",
   "output_path": "__notebook__.ipynb",
   "parameters": {},
   "start_time": "2022-04-25T06:21:32.324163",
   "version": "2.3.4"
  }
 },
 "nbformat": 4,
 "nbformat_minor": 5
}
